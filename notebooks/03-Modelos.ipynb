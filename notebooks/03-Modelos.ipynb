{
 "cells": [
  {
   "cell_type": "markdown",
   "metadata": {},
   "source": [
    "# Modelos de Predicción"
   ]
  },
  {
   "cell_type": "markdown",
   "metadata": {},
   "source": [
    "## Importación de librerías"
   ]
  },
  {
   "cell_type": "code",
   "execution_count": null,
   "metadata": {},
   "outputs": [],
   "source": [
    "import os.path\n",
    "import pandas as pd\n",
    "import matplotlib.pyplot as plt\n",
    "from sklearn import preprocessing\n",
    "from sklearn.metrics import classification_report\n",
    "from sklearn.metrics import confusion_matrix"
   ]
  },
  {
   "cell_type": "markdown",
   "metadata": {},
   "source": [
    "## Constantes"
   ]
  },
  {
   "cell_type": "markdown",
   "metadata": {},
   "source": [
    "Rutas usuales que se ocuparán en el notebook"
   ]
  },
  {
   "cell_type": "code",
   "execution_count": null,
   "metadata": {
    "code_folding": [
     11,
     13,
     15
    ]
   },
   "outputs": [],
   "source": [
    "# Salvar gráficos\n",
    "save_graf = False\n",
    "\n",
    "# RUTAS\n",
    "MAIN_PATH = os.path.join(\"..\")\n",
    "\n",
    "IMG_PATH = os.path.join(MAIN_PATH, \"imagenes\")\n",
    "DATA_PATH = os.path.join(MAIN_PATH, \"data\")\n",
    "\n",
    "WF_FOLDER_PATH = os.path.join(DATA_PATH,\n",
    "                              \"wildfires_us\")\n",
    "WF_DATA_PATH = os.path.join(WF_FOLDER_PATH,\n",
    "                            \"WILDFIRES_USA.csv\")\n",
    "WF_DATA_COLUMNS_PATH = os.path.join(WF_FOLDER_PATH,\n",
    "                                    \"WILDFIRES_USA_COLUMNS.csv\")\n",
    "\n",
    "# Tamaño de la imagen\n",
    "my_figsize = (10, 5)"
   ]
  },
  {
   "cell_type": "markdown",
   "metadata": {},
   "source": [
    "## Funciones auxiliares"
   ]
  },
  {
   "cell_type": "markdown",
   "metadata": {},
   "source": [
    "Función que se ocupará para imprimir la información (número de filas y columnas) de un DataFrame."
   ]
  },
  {
   "cell_type": "code",
   "execution_count": null,
   "metadata": {
    "code_folding": [
     0
    ]
   },
   "outputs": [],
   "source": [
    "def print_cantidad(dataframe):\n",
    "    \"\"\"Imprime la cantidad de datos que tiene el Data Frame.\n",
    "    \"\"\"\n",
    "    msg_cantidad = \"El dataset tiene una cantidad de {} datos y {} variables.\"\n",
    "    print(msg_cantidad.format(dataframe.shape[0], dataframe.shape[1]))\n",
    "    return None"
   ]
  },
  {
   "cell_type": "markdown",
   "metadata": {},
   "source": [
    "## Carga de datos"
   ]
  },
  {
   "cell_type": "markdown",
   "metadata": {},
   "source": [
    "### Columnas a ocupar\n",
    "\n",
    "Se escojen las columnas a ocupar dependiendo de la importancia que tenga. Se omiten algunas columnas tales como las que son para el ID, como el nombre que tuvo el incendio, o la columna que indica de dónde se obtuvo el incendio; pues no deberían de afectar a la predicción."
   ]
  },
  {
   "cell_type": "code",
   "execution_count": null,
   "metadata": {
    "code_folding": []
   },
   "outputs": [],
   "source": [
    "# Todas las columnas\n",
    "columnas = str(pd.read_csv(WF_DATA_COLUMNS_PATH).columns[0]).split(\",\")\n",
    "\n",
    "# Columnas que se ocuparán en el análisis\n",
    "columnas_ocupadas = columnas.copy()\n",
    "\n",
    "# Columnas que no se ocuparán\n",
    "columnas_sin_ocupar = [x for x in columnas if x not in columnas_ocupadas]"
   ]
  },
  {
   "cell_type": "markdown",
   "metadata": {},
   "source": [
    "### Carga de Datos"
   ]
  },
  {
   "cell_type": "code",
   "execution_count": null,
   "metadata": {},
   "outputs": [],
   "source": [
    "df = pd.read_csv(WF_DATA_PATH)\n",
    "\n",
    "# Convertimos los datos que sean fechas en ese tipo de dato\n",
    "df[\"DISC_DATE_TIME\"] = pd.to_datetime(df[\"DISC_DATE_TIME\"])\n",
    "df[\"CONT_DATE_TIME\"] = pd.to_datetime(df[\"CONT_DATE_TIME\"])\n",
    "\n",
    "print_cantidad(df)\n",
    "\n",
    "df.head()"
   ]
  },
  {
   "cell_type": "markdown",
   "metadata": {},
   "source": [
    "## Preparación de la data"
   ]
  },
  {
   "cell_type": "markdown",
   "metadata": {},
   "source": [
    "### Convertir variables categóricas a númericas"
   ]
  },
  {
   "cell_type": "code",
   "execution_count": null,
   "metadata": {},
   "outputs": [],
   "source": [
    "df_copy = df.copy()\n",
    "\n",
    "df_copy = df_copy.drop(\"DISC_DATE_TIME\", axis=1)\n",
    "df_copy = df_copy.drop(\"CONT_DATE_TIME\", axis=1)\n",
    "df_copy = df_copy.drop(\"COUNTY\", axis=1)\n",
    "\n",
    "columnas = [\n",
    "    \"STATE\", \n",
    "    \"DISC_MONTH\",\n",
    "    \"DISC_DAY_OF_WEEK\",\n",
    "    \"CONT_MONTH\",\n",
    "    \"CONT_DAY_OF_WEEK\",\n",
    "    \"FIRE_SIZE_CLASS\",\n",
    "    \"FIPS_NAME\",\n",
    "    \"STAT_CAUSE_DESCR\",\n",
    "]\n",
    "\n",
    "le = preprocessing.LabelEncoder()\n",
    "for col in columnas:\n",
    "    df_copy[col] = le.fit_transform(df_copy[col])"
   ]
  },
  {
   "cell_type": "markdown",
   "metadata": {},
   "source": [
    "### Preparación de la data de entrenamiento con la de prueba"
   ]
  },
  {
   "cell_type": "code",
   "execution_count": null,
   "metadata": {},
   "outputs": [],
   "source": [
    "from sklearn.model_selection import train_test_split\n",
    "\n",
    "X = df_copy.drop(\"STAT_CAUSE_DESCR\", axis=1).values\n",
    "y = df.STAT_CAUSE_DESCR.values\n",
    "\n",
    "X_train, X_test, y_train, y_test = train_test_split(X,\n",
    "                                                    y,\n",
    "                                                    test_size=0.3,\n",
    "                                                    random_state=0\n",
    "                                                   )"
   ]
  },
  {
   "cell_type": "markdown",
   "metadata": {},
   "source": [
    "## Generación de modelos"
   ]
  },
  {
   "cell_type": "markdown",
   "metadata": {},
   "source": [
    "Empezamos a probar la clasificación con distintos métodos"
   ]
  },
  {
   "cell_type": "markdown",
   "metadata": {},
   "source": [
    "### Naïve Bayes"
   ]
  },
  {
   "cell_type": "code",
   "execution_count": null,
   "metadata": {},
   "outputs": [],
   "source": [
    "from sklearn.naive_bayes import GaussianNB\n",
    "# Entrenamos\n",
    "gnb = GaussianNB()\n",
    "gnb.fit(X_train, y_train)\n",
    "\n",
    "# Predecimos\n",
    "y_pred_gnb = gnb.predict(X_test)\n",
    "\n",
    "# Mostramos\n",
    "print(classification_report(y_test, y_pred_gnb))"
   ]
  },
  {
   "cell_type": "markdown",
   "metadata": {},
   "source": [
    "### Clasificador de k-vecinos próximos"
   ]
  },
  {
   "cell_type": "code",
   "execution_count": null,
   "metadata": {},
   "outputs": [],
   "source": [
    "from sklearn.neighbors import KNeighborsClassifier\n",
    "# Entrenamos\n",
    "knc = KNeighborsClassifier(n_neighbors=3)\n",
    "knc.fit(X_train, y_train)\n",
    "\n",
    "# Predecimos\n",
    "y_pred_knc = knc.predict(X_test)\n",
    "\n",
    "# Mostramos\n",
    "print(classification_report(y_test, y_pred_knc))"
   ]
  },
  {
   "cell_type": "markdown",
   "metadata": {},
   "source": [
    "### Análisis de Discriminante Lineal"
   ]
  },
  {
   "cell_type": "code",
   "execution_count": null,
   "metadata": {},
   "outputs": [],
   "source": [
    "from sklearn.discriminant_analysis import LinearDiscriminantAnalysis\n",
    "# Entrenamos\n",
    "lda = LinearDiscriminantAnalysis()\n",
    "lda.fit(X_train, y_train)\n",
    "\n",
    "# Predecimos\n",
    "y_pred_lda = lda.predict(X_test)\n",
    "\n",
    "# Mostramos\n",
    "print(classification_report(y_test, y_pred_lda))"
   ]
  },
  {
   "cell_type": "markdown",
   "metadata": {},
   "source": [
    "### Análisis de Discriminante Cuadrático"
   ]
  },
  {
   "cell_type": "code",
   "execution_count": null,
   "metadata": {},
   "outputs": [],
   "source": [
    "from sklearn.discriminant_analysis import QuadraticDiscriminantAnalysis\n",
    "# Entrenamos\n",
    "qda = QuadraticDiscriminantAnalysis()\n",
    "qda.fit(X_train, y_train)\n",
    "\n",
    "# Predecimos\n",
    "y_pred_qda = qda.predict(X_test)\n",
    "\n",
    "# Mostramos\n",
    "print(classification_report(y_test, y_pred_qda))"
   ]
  },
  {
   "cell_type": "markdown",
   "metadata": {},
   "source": [
    "### Árbol de Decisión"
   ]
  },
  {
   "cell_type": "code",
   "execution_count": null,
   "metadata": {},
   "outputs": [],
   "source": [
    "from sklearn.tree import DecisionTreeClassifier\n",
    "\n",
    "# Entrenamos\n",
    "dtc = DecisionTreeClassifier()\n",
    "dtc = dtc.fit(X_train, y_train)\n",
    "\n",
    "# Predecimos\n",
    "y_pred_dtc = dtc.predict(X_test)\n",
    "\n",
    "# Mostramos\n",
    "print(classification_report(y_test, y_pred_dtc))"
   ]
  },
  {
   "cell_type": "markdown",
   "metadata": {},
   "source": [
    "### Random Forest"
   ]
  },
  {
   "cell_type": "code",
   "execution_count": null,
   "metadata": {},
   "outputs": [],
   "source": [
    "from sklearn.ensemble import RandomForestClassifier\n",
    "# Entrenamos\n",
    "rfc = RandomForestClassifier(n_estimators=50)\n",
    "rfc = rfc.fit(X_train, y_train)\n",
    "\n",
    "# Predecimos\n",
    "y_pred_rfc = rfc.predict(X_test)\n",
    "\n",
    "# Mostramos\n",
    "print(classification_report(y_test, y_pred_rfc))"
   ]
  }
 ],
 "metadata": {
  "kernelspec": {
   "display_name": "Python 3",
   "language": "python",
   "name": "python3"
  },
  "language_info": {
   "codemirror_mode": {
    "name": "ipython",
    "version": 3
   },
   "file_extension": ".py",
   "mimetype": "text/x-python",
   "name": "python",
   "nbconvert_exporter": "python",
   "pygments_lexer": "ipython3",
   "version": "3.7.3"
  },
  "toc": {
   "base_numbering": 1,
   "nav_menu": {},
   "number_sections": true,
   "sideBar": true,
   "skip_h1_title": false,
   "title_cell": "Table of Contents",
   "title_sidebar": "Contents",
   "toc_cell": false,
   "toc_position": {
    "height": "calc(100% - 180px)",
    "left": "10px",
    "top": "150px",
    "width": "228.667px"
   },
   "toc_section_display": true,
   "toc_window_display": false
  },
  "varInspector": {
   "cols": {
    "lenName": 16,
    "lenType": 16,
    "lenVar": 40
   },
   "kernels_config": {
    "python": {
     "delete_cmd_postfix": "",
     "delete_cmd_prefix": "del ",
     "library": "var_list.py",
     "varRefreshCmd": "print(var_dic_list())"
    },
    "r": {
     "delete_cmd_postfix": ") ",
     "delete_cmd_prefix": "rm(",
     "library": "var_list.r",
     "varRefreshCmd": "cat(var_dic_list()) "
    }
   },
   "oldHeight": 216.333666,
   "position": {
    "height": "237.667px",
    "left": "824px",
    "right": "20px",
    "top": "120px",
    "width": "350px"
   },
   "types_to_exclude": [
    "module",
    "function",
    "builtin_function_or_method",
    "instance",
    "_Feature"
   ],
   "varInspector_section_display": "block",
   "window_display": false
  }
 },
 "nbformat": 4,
 "nbformat_minor": 4
}
