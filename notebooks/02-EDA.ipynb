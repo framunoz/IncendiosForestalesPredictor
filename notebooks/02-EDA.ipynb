{
 "cells": [
  {
   "cell_type": "markdown",
   "metadata": {},
   "source": [
    "# EDA"
   ]
  },
  {
   "cell_type": "markdown",
   "metadata": {},
   "source": [
    "## Importación de librerías"
   ]
  },
  {
   "cell_type": "code",
   "execution_count": null,
   "metadata": {},
   "outputs": [],
   "source": [
    "import os.path\n",
    "import pandas as pd\n",
    "import matplotlib.pyplot as plt\n",
    "import seaborn as sns\n",
    "from sklearn import preprocessing"
   ]
  },
  {
   "cell_type": "markdown",
   "metadata": {},
   "source": [
    "## Constantes"
   ]
  },
  {
   "cell_type": "markdown",
   "metadata": {},
   "source": [
    "Rutas usuales que se ocuparán en el notebook"
   ]
  },
  {
   "cell_type": "code",
   "execution_count": null,
   "metadata": {
    "code_folding": [
     11,
     13,
     15
    ]
   },
   "outputs": [],
   "source": [
    "# Salvar gráficos\n",
    "save_graf = False\n",
    "\n",
    "# RUTAS\n",
    "MAIN_PATH = os.path.join(\"..\")\n",
    "\n",
    "IMG_PATH = os.path.join(MAIN_PATH, \"imagenes\")\n",
    "DATA_PATH = os.path.join(MAIN_PATH, \"data\")\n",
    "\n",
    "WF_FOLDER_PATH = os.path.join(DATA_PATH,\n",
    "                              \"wildfires_us\")\n",
    "WF_DATA_PATH = os.path.join(WF_FOLDER_PATH,\n",
    "                            \"WILDFIRES_USA.csv\")\n",
    "WF_DATA_COLUMNS_PATH = os.path.join(WF_FOLDER_PATH,\n",
    "                                    \"WILDFIRES_USA_COLUMNS.csv\")\n",
    "\n",
    "# Tamaño de la imagen\n",
    "my_figsize = (10, 5)"
   ]
  },
  {
   "cell_type": "markdown",
   "metadata": {},
   "source": [
    "## Funciones auxiliares"
   ]
  },
  {
   "cell_type": "markdown",
   "metadata": {},
   "source": [
    "Función que se ocupará para imprimir la información (número de filas y columnas) de un DataFrame."
   ]
  },
  {
   "cell_type": "code",
   "execution_count": null,
   "metadata": {
    "code_folding": [
     0
    ]
   },
   "outputs": [],
   "source": [
    "def print_cantidad(dataframe):\n",
    "    \"\"\"Imprime la cantidad de datos que tiene el Data Frame.\n",
    "    \"\"\"\n",
    "    msg_cantidad = \"El dataset tiene una cantidad de {} datos y {} variables.\"\n",
    "    print(msg_cantidad.format(dataframe.shape[0], dataframe.shape[1]))\n",
    "    return None"
   ]
  },
  {
   "cell_type": "markdown",
   "metadata": {},
   "source": [
    "Función que define el estilo de todos los gráficos"
   ]
  },
  {
   "cell_type": "code",
   "execution_count": null,
   "metadata": {
    "code_folding": [
     0
    ]
   },
   "outputs": [],
   "source": [
    "def estilo():\n",
    "    \"\"\"Define el estilo general de los gráficos.\n",
    "    \"\"\"\n",
    "    # Configuraciones\n",
    "    sns.set(\n",
    "        context=\"notebook\",\n",
    "        style=\"whitegrid\",\n",
    "        palette=\"pastel\",\n",
    "        font_scale=1.3\n",
    "    )"
   ]
  },
  {
   "cell_type": "markdown",
   "metadata": {},
   "source": [
    "Función que servirá para graficar con el dataframe"
   ]
  },
  {
   "cell_type": "code",
   "execution_count": null,
   "metadata": {
    "code_folding": []
   },
   "outputs": [],
   "source": [
    "def plot_barh(df, columna, save=save_graf, n_datos=None, title=None, sort=True):\n",
    "    \"\"\"Plotea un gráfico de barras horizontales.\n",
    "    Se especifica el dataframe y la columna con que se graficará\n",
    "    \"\"\"\n",
    "    estilo()\n",
    "\n",
    "    titulo = (\"Número de incendios\"\n",
    "              + f\" para la columna {columna}.\") if title is None else title\n",
    "\n",
    "    if n_datos is None:\n",
    "        ax = df[columna].value_counts(sort=sort).plot(\n",
    "            kind=\"barh\",\n",
    "            figsize=my_figsize,\n",
    "        )\n",
    "    else:\n",
    "        ax = df[columna].value_counts(sort=sort).head(n=n_datos).plot(\n",
    "            kind=\"barh\",\n",
    "            figsize=my_figsize,\n",
    "        )\n",
    "        \n",
    "    ax.set_xlabel(\"Número de incendios\")\n",
    "    ax.set_ylabel(columna)\n",
    "    ax.set_title(titulo)\n",
    "\n",
    "    if save:\n",
    "        plt.savefig(os.path.join(IMG_PATH, f\"barh_{columna}.pdf\"))"
   ]
  },
  {
   "cell_type": "markdown",
   "metadata": {},
   "source": [
    "Para graficar un mapa"
   ]
  },
  {
   "cell_type": "code",
   "execution_count": null,
   "metadata": {
    "code_folding": [
     0
    ]
   },
   "outputs": [],
   "source": [
    "def graf_map(df, n_sample=2500):\n",
    "    \"\"\"Plotea un mapa de USA con sus incendios.\n",
    "    \"\"\"\n",
    "    import folium\n",
    "    import random\n",
    "\n",
    "    # Inspiración: \n",
    "    # https://python-visualization.github.io/folium/quickstart.html#Choropleth-maps\n",
    "\n",
    "    state_geo = \"https://raw.githubusercontent.com/python-visualization/folium/master/examples/data/search_states.json\"\n",
    "\n",
    "    state_uneployment = \"https://raw.githubusercontent.com/python-visualization/folium/master/examples/data/US_Unemployment_Oct2012.csv\"\n",
    "\n",
    "    state_data = pd.read_csv(state_uneployment)\n",
    "\n",
    "    m = folium.Map(location=[48, -102], zoom_start=3, width=800, height=500)\n",
    "\n",
    "    lat_long = list(zip(df[\"LATITUDE\"], df[\"LONGITUDE\"]))\n",
    "\n",
    "    random.seed(1314)\n",
    "    for lat, long in random.sample(lat_long, 2500):\n",
    "        folium.CircleMarker(\n",
    "            [lat, long],\n",
    "            color=\"red\",\n",
    "            fill=True,\n",
    "            fill_opacity=0.2,\n",
    "            radius=1,\n",
    "        ).add_to(m)\n",
    "\n",
    "    return m"
   ]
  },
  {
   "cell_type": "markdown",
   "metadata": {},
   "source": [
    "## Carga de datos"
   ]
  },
  {
   "cell_type": "markdown",
   "metadata": {},
   "source": [
    "### Columnas a ocupar\n",
    "\n",
    "Se escojen las columnas a ocupar dependiendo de la importancia que tenga. Se omiten algunas columnas tales como las que son para el ID, como el nombre que tuvo el incendio, o la columna que indica de dónde se obtuvo el incendio; pues no deberían de afectar a la predicción."
   ]
  },
  {
   "cell_type": "code",
   "execution_count": null,
   "metadata": {
    "code_folding": []
   },
   "outputs": [],
   "source": [
    "# Todas las columnas\n",
    "columnas = str(pd.read_csv(WF_DATA_COLUMNS_PATH).columns[0]).split(\",\")\n",
    "\n",
    "# Columnas que se ocuparán en el análisis\n",
    "columnas_ocupadas = columnas.copy()\n",
    "\n",
    "# Columnas que no se ocuparán\n",
    "columnas_sin_ocupar = [x for x in columnas if x not in columnas_ocupadas]"
   ]
  },
  {
   "cell_type": "markdown",
   "metadata": {},
   "source": [
    "### Carga de Datos"
   ]
  },
  {
   "cell_type": "code",
   "execution_count": null,
   "metadata": {},
   "outputs": [],
   "source": [
    "df = pd.read_csv(WF_DATA_PATH)\n",
    "\n",
    "# Convertimos los datos que sean fechas en ese tipo de dato\n",
    "df[\"DISC_DATE_TIME\"] = pd.to_datetime(df[\"DISC_DATE_TIME\"])\n",
    "df[\"CONT_DATE_TIME\"] = pd.to_datetime(df[\"CONT_DATE_TIME\"])\n",
    "\n",
    "print_cantidad(df)\n",
    "\n",
    "df.head()"
   ]
  },
  {
   "cell_type": "markdown",
   "metadata": {},
   "source": [
    "## Análisis de datos"
   ]
  },
  {
   "cell_type": "markdown",
   "metadata": {},
   "source": [
    "### Primeros gráficos"
   ]
  },
  {
   "cell_type": "code",
   "execution_count": null,
   "metadata": {},
   "outputs": [],
   "source": [
    "plot_barh(df, \"STAT_CAUSE_DESCR\")"
   ]
  },
  {
   "cell_type": "markdown",
   "metadata": {},
   "source": [
    "Observamos que las principales causas de incendio son: `Debris Burning`, `Lightning`, `Miscellaneous` y `Arson`.\n",
    "\n",
    "Estos, traducidos son: Quema de escombros, Relámpago, Misceláneo e Incendio provocado, respectivamente."
   ]
  },
  {
   "cell_type": "code",
   "execution_count": null,
   "metadata": {},
   "outputs": [],
   "source": [
    "plot_barh(df, \"FIRE_SIZE_CLASS\")"
   ]
  },
  {
   "cell_type": "markdown",
   "metadata": {},
   "source": [
    "Se observa que las principales clases de tamaños son: `B`, `A` y `C`.\n",
    "    \n",
    "Esto significa que la mayoría de incendios están entre los rangos 0.26-9.9, 0-0.25 y 10.0-99.9 acres respectivamente.\n",
    "\n",
    "Un acre son 4046.86m2, si lo traducimos:\n",
    "* `B`:1,052.18-40,063.91m2\n",
    "* `A`:0.0-1,011.71m2\n",
    "* `C`:40,468.60-404,281.31m2\n"
   ]
  },
  {
   "cell_type": "code",
   "execution_count": null,
   "metadata": {},
   "outputs": [],
   "source": [
    "plot_barh(df, \"STATE\", n_datos=7)"
   ]
  },
  {
   "cell_type": "markdown",
   "metadata": {},
   "source": [
    "Observamos que la mayoría de incendios se encuentran en Georgia, New York, California y Massachusetts."
   ]
  },
  {
   "cell_type": "code",
   "execution_count": null,
   "metadata": {},
   "outputs": [],
   "source": [
    "graf_map(df)"
   ]
  },
  {
   "cell_type": "code",
   "execution_count": null,
   "metadata": {},
   "outputs": [],
   "source": [
    "plot_barh(df, \"DISC_MONTH\", sort=True)"
   ]
  },
  {
   "cell_type": "markdown",
   "metadata": {},
   "source": [
    "Observamos que la mayoría de incendios ocurren en los meses de julio, abril, marzo y agosto.\n",
    "\n",
    "Esto se puede deber a que en esos meses ocurren ciertas festividades en USA, aunque se necesita de mayor investigación para afirmarlo."
   ]
  },
  {
   "cell_type": "markdown",
   "metadata": {},
   "source": [
    "### Analizar la causa con respecto a algún día de la semana"
   ]
  },
  {
   "cell_type": "code",
   "execution_count": null,
   "metadata": {},
   "outputs": [],
   "source": [
    "causa = \"Debris Burning\"\n",
    "plot_barh(df[df[\"STAT_CAUSE_DESCR\"]==causa], \n",
    "          \"DISC_DAY_OF_WEEK\",\n",
    "          title=f\"Número de incendios de causa '{causa}', en días de semana.\"\n",
    "         )"
   ]
  },
  {
   "cell_type": "markdown",
   "metadata": {},
   "source": [
    "Observamos que el número de incendios por la quema de escombros son más frecuentes los sábados.\n",
    "\n",
    "Esto se puede explicar porque la gente suele acampar los fines de semana, provocando estos incendios."
   ]
  },
  {
   "cell_type": "code",
   "execution_count": null,
   "metadata": {},
   "outputs": [],
   "source": [
    "causa = \"Lightning\"\n",
    "plot_barh(df[df[\"STAT_CAUSE_DESCR\"]==causa], \n",
    "          \"DISC_DAY_OF_WEEK\",\n",
    "          title=f\"Número de incendios de causa '{causa}', en días de semana.\"\n",
    "         )"
   ]
  },
  {
   "cell_type": "markdown",
   "metadata": {},
   "source": [
    "Observamos que no hay diferencias significativas por la causa de relámpagos. Esto es lo intuitivo, pues es una causa natural y no humana."
   ]
  },
  {
   "cell_type": "code",
   "execution_count": null,
   "metadata": {},
   "outputs": [],
   "source": [
    "causa = \"Miscellaneous\"\n",
    "plot_barh(df[df[\"STAT_CAUSE_DESCR\"]==causa], \n",
    "          \"DISC_DAY_OF_WEEK\",\n",
    "          title=f\"Número de incendios de causa '{causa}', en días de semana.\"\n",
    "         )"
   ]
  },
  {
   "cell_type": "markdown",
   "metadata": {},
   "source": [
    "Observamos que ocurren más incendios los sábados, domingos y lunes de forma miscelánea. Esto se puede explicar de que las personas aprovehan los fines de semanas largos para ir a acampar."
   ]
  },
  {
   "cell_type": "code",
   "execution_count": null,
   "metadata": {},
   "outputs": [],
   "source": [
    "causa = \"Arson\"\n",
    "plot_barh(df[df[\"STAT_CAUSE_DESCR\"]==causa], \n",
    "          \"DISC_DAY_OF_WEEK\",\n",
    "          title=f\"Número de incendios de causa '{causa}', en días de semana.\"\n",
    "         )"
   ]
  },
  {
   "cell_type": "markdown",
   "metadata": {},
   "source": [
    "Obtenemos una tendencia similar a la causa miscélanea."
   ]
  },
  {
   "cell_type": "markdown",
   "metadata": {},
   "source": [
    "### Gráfico de número de incendios con respecto a la hora"
   ]
  },
  {
   "cell_type": "code",
   "execution_count": null,
   "metadata": {
    "code_folding": []
   },
   "outputs": [],
   "source": [
    "df[\"DISC_TIME\"].value_counts(sort=False).plot(\n",
    "    kind=\"bar\",\n",
    "    figsize=my_figsize\n",
    ")\n",
    "\n",
    "plt.xticks(rotation=0)\n",
    "plt.show()"
   ]
  },
  {
   "cell_type": "markdown",
   "metadata": {},
   "source": [
    "Observamos que se forma una especie de campana, concentrada a las 14."
   ]
  },
  {
   "cell_type": "markdown",
   "metadata": {},
   "source": [
    "### Matriz de correlaciones"
   ]
  },
  {
   "cell_type": "markdown",
   "metadata": {},
   "source": [
    "Realizamos una copia del dataframe y rotulamos las variables categóricas."
   ]
  },
  {
   "cell_type": "code",
   "execution_count": null,
   "metadata": {},
   "outputs": [],
   "source": [
    "df_copy = df.copy()\n",
    "\n",
    "columnas = [\n",
    "    \"STAT_CAUSE_DESCR\",\n",
    "    \"STATE\", \"DISC_MONTH\",\n",
    "    \"DISC_DAY_OF_WEEK\",\n",
    "    \"CONT_MONTH\",\n",
    "    \"CONT_DAY_OF_WEEK\",\n",
    "    \"FIRE_SIZE_CLASS\",\n",
    "]\n",
    "\n",
    "le = preprocessing.LabelEncoder()\n",
    "for col in columnas:\n",
    "    df_copy[col] = le.fit_transform(df_copy[col])"
   ]
  },
  {
   "cell_type": "code",
   "execution_count": null,
   "metadata": {},
   "outputs": [],
   "source": [
    "df_copy.head()"
   ]
  },
  {
   "cell_type": "code",
   "execution_count": null,
   "metadata": {},
   "outputs": [],
   "source": [
    "corr_matrix = df_copy.corr()\n",
    "\n",
    "fig, ax = plt.subplots(figsize=(10,7))\n",
    "sns.heatmap(corr_matrix, annot=False,\n",
    "            vmin=-1, vmax=1, center=0,\n",
    "            cmap=\"bwr\", linewidths=1, ax=ax\n",
    "           )\n",
    "\n",
    "plt.xticks(rotation=80)\n",
    "plt.show()"
   ]
  },
  {
   "cell_type": "markdown",
   "metadata": {},
   "source": [
    "Observamos que el el año del incendio tiene correlación con la causa del incendio y el estado. Curiosamente esta variable tiene correlación con la latitud. Puede ser que tenga esta correlación por su correlación con el estado.\n",
    "\n",
    "La causa del incendio tiene correlación con la latitud y con el estado. Esto se puede deber a que la latitud tiene una alta correlación con el estado.\n",
    "\n",
    "Observamos que el tamaño del incendio tiene correlación con el tiempo de contención."
   ]
  }
 ],
 "metadata": {
  "kernelspec": {
   "display_name": "Python 3",
   "language": "python",
   "name": "python3"
  },
  "language_info": {
   "codemirror_mode": {
    "name": "ipython",
    "version": 3
   },
   "file_extension": ".py",
   "mimetype": "text/x-python",
   "name": "python",
   "nbconvert_exporter": "python",
   "pygments_lexer": "ipython3",
   "version": "3.7.3"
  },
  "toc": {
   "base_numbering": 1,
   "nav_menu": {},
   "number_sections": true,
   "sideBar": true,
   "skip_h1_title": false,
   "title_cell": "Table of Contents",
   "title_sidebar": "Contents",
   "toc_cell": false,
   "toc_position": {
    "height": "calc(100% - 180px)",
    "left": "10px",
    "top": "150px",
    "width": "228.667px"
   },
   "toc_section_display": true,
   "toc_window_display": false
  },
  "varInspector": {
   "cols": {
    "lenName": 16,
    "lenType": 16,
    "lenVar": 40
   },
   "kernels_config": {
    "python": {
     "delete_cmd_postfix": "",
     "delete_cmd_prefix": "del ",
     "library": "var_list.py",
     "varRefreshCmd": "print(var_dic_list())"
    },
    "r": {
     "delete_cmd_postfix": ") ",
     "delete_cmd_prefix": "rm(",
     "library": "var_list.r",
     "varRefreshCmd": "cat(var_dic_list()) "
    }
   },
   "oldHeight": 216.333666,
   "position": {
    "height": "237.667px",
    "left": "824px",
    "right": "20px",
    "top": "120px",
    "width": "350px"
   },
   "types_to_exclude": [
    "module",
    "function",
    "builtin_function_or_method",
    "instance",
    "_Feature"
   ],
   "varInspector_section_display": "block",
   "window_display": false
  }
 },
 "nbformat": 4,
 "nbformat_minor": 4
}
